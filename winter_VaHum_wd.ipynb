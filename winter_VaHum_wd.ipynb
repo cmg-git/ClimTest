{
 "cells": [
  {
   "cell_type": "markdown",
   "metadata": {},
   "source": [
    "[Widgets](https://ipywidgets.readthedocs.io/en/latest/)\n",
    "[Pandas PyData](https://pandas.pydata.org/getting_started.html)\n",
    "[Pandas](https://chrisalbon.com/python/data_wrangling/pandas_selecting_rows_on_conditions/)"
   ]
  },
  {
   "cell_type": "code",
   "execution_count": 1,
   "metadata": {},
   "outputs": [],
   "source": [
    "from ipywidgets import interact, interactive, fixed, interact_manual\n",
    "import ipywidgets as widgets\n",
    "import matplotlib.pyplot as plt\n",
    "\n",
    "# %matplotlib inline  # uncomment for inline figure\n",
    "# uncomment for figure in separate window\n",
    "# %matplotlib qt\n",
    "# plt.show()\n",
    "\n",
    "# plt.rcParams[\"figure.figsize\"] = (30,20)\n",
    "# font = {'weight' : 'bold',\n",
    "#        'size'   : 30}\n",
    "# plt.rc('font', **font)"
   ]
  },
  {
   "cell_type": "markdown",
   "metadata": {},
   "source": [
    "# Heating and vapor humidification\n",
    "\n",
    "All outdoor air\n",
    "\n",
    "-[CAV Sysmes](https://www.youtube.com/watch?v=6n_qYmbx_1g)\n",
    "\n",
    "-[VAV Sysmes](https://www.youtube.com/watch?v=HBmOyeWtpHg)\n",
    "\n",
    "Recirculated air\n",
    "\n",
    "-[CAV Sysmes](https://www.youtube.com/watch?v=6n_qYmbx_1g)\n",
    "\n",
    "-[VAV Sysmes](https://www.youtube.com/watch?v=HBmOyeWtpHg)"
   ]
  },
  {
   "cell_type": "markdown",
   "metadata": {},
   "source": [
    "## All outdoor air"
   ]
  },
  {
   "cell_type": "markdown",
   "metadata": {},
   "source": [
    "### Constant air volume (CAV)\n",
    "[CAV Systems](https://www.youtube.com/watch?v=6n_qYmbx_1g)\n",
    "\n",
    "\n",
    "<img src=\"Figures/winter_VaHum_AllO_CAV.png\" alt=\"winter_AllO_VaHum_CAV\" style=\"width: 600px;\"/>\n"
   ]
  },
  {
   "cell_type": "code",
   "execution_count": 2,
   "metadata": {},
   "outputs": [],
   "source": [
    "def AllOutAirCAV_wd(tSsp=30, mi=2.18, tO=-1, phiO=1):\n",
    "    from winter_VaHum import AllOutAirCAV\n",
    "    AllOutAirCAV(tSsp, mi, tO, phiO)"
   ]
  },
  {
   "cell_type": "code",
   "execution_count": 3,
   "metadata": {},
   "outputs": [
    {
     "data": {
      "application/vnd.jupyter.widget-view+json": {
       "model_id": "83bd37b644ec436c9403a2ebd8636a59",
       "version_major": 2,
       "version_minor": 0
      },
      "text/plain": [
       "interactive(children=(IntSlider(value=30, description='tSsp', max=50, min=20, step=2), FloatSlider(value=2.18,…"
      ]
     },
     "metadata": {},
     "output_type": "display_data"
    },
    {
     "data": {
      "text/plain": [
       "<function __main__.AllOutAirCAV_wd(tSsp=30, mi=2.18, tO=-1, phiO=1)>"
      ]
     },
     "execution_count": 3,
     "metadata": {},
     "output_type": "execute_result"
    }
   ],
   "source": [
    "interact(AllOutAirCAV_wd, tSsp = (20,50,2), mi = (0,5,0.2), tO = (-10,17,2), phiO = (0,1,0.1))"
   ]
  },
  {
   "cell_type": "markdown",
   "metadata": {},
   "source": [
    "### Variable air volume (VAV)\n",
    "<img src=\"Figures/winter_VaHum_AllO_VAV.png\" alt=\"winter_AllO_VaHum_VAV\" style=\"width: 800px;\"/>"
   ]
  },
  {
   "cell_type": "code",
   "execution_count": 4,
   "metadata": {},
   "outputs": [],
   "source": [
    "def AllOutAirVAV_wd(tSsp=30, mi=2.18, tO=-1, phiO=1):\n",
    "    from winter_VaHum import AllOutAirVAV\n",
    "    AllOutAirVAV(tSsp, mi, tO, phiO)"
   ]
  },
  {
   "cell_type": "code",
   "execution_count": 5,
   "metadata": {},
   "outputs": [
    {
     "data": {
      "application/vnd.jupyter.widget-view+json": {
       "model_id": "2760c5c0705f4f3686b2db3451b58ea5",
       "version_major": 2,
       "version_minor": 0
      },
      "text/plain": [
       "interactive(children=(IntSlider(value=30, description='tSsp', max=50, min=20, step=2), FloatSlider(value=2.18,…"
      ]
     },
     "metadata": {},
     "output_type": "display_data"
    },
    {
     "data": {
      "text/plain": [
       "<function __main__.AllOutAirVAV_wd(tSsp=30, mi=2.18, tO=-1, phiO=1)>"
      ]
     },
     "execution_count": 5,
     "metadata": {},
     "output_type": "execute_result"
    }
   ],
   "source": [
    "interact(AllOutAirVAV_wd, tSsp = (20,50,2), mi = (0,5,0.2), tO = (-10,17,2), phiO = (0,1,0.1))"
   ]
  },
  {
   "cell_type": "markdown",
   "metadata": {},
   "source": [
    "## Recycled air"
   ]
  },
  {
   "cell_type": "markdown",
   "metadata": {},
   "source": [
    "### Constant air volumr (CAV)\n",
    "[CAV Systems](https://www.youtube.com/watch?v=6n_qYmbx_1g)\n",
    "\n",
    "- supply air mass flow rate: constant - determined for design conditions\n",
    "- supply temperature varies\n",
    "\n",
    "<img src=\"Figures/winter_VaHum_Rec_CAV.png\" alt=\"winter_AllO_VaHum_CAV\" style=\"width: 600px;\"/>"
   ]
  },
  {
   "cell_type": "code",
   "execution_count": 6,
   "metadata": {},
   "outputs": [],
   "source": [
    "def RecAirCAV_wd(tS=30, mi=2.18, tO=-1, phiO=1, alpha=0.5):\n",
    "    from winter_VaHum import RecAirCAV\n",
    "    RecAirCAV(tS, mi, tO, phiO, alpha)\n",
    "    "
   ]
  },
  {
   "cell_type": "code",
   "execution_count": 7,
   "metadata": {},
   "outputs": [
    {
     "data": {
      "application/vnd.jupyter.widget-view+json": {
       "model_id": "78f07fcdb33d4d4fad9be9547d2bae9c",
       "version_major": 2,
       "version_minor": 0
      },
      "text/plain": [
       "interactive(children=(IntSlider(value=30, description='tS', max=50, min=20, step=2), FloatSlider(value=2.18, d…"
      ]
     },
     "metadata": {},
     "output_type": "display_data"
    },
    {
     "data": {
      "text/plain": [
       "<function __main__.RecAirCAV_wd(tS=30, mi=2.18, tO=-1, phiO=1, alpha=0.5)>"
      ]
     },
     "execution_count": 7,
     "metadata": {},
     "output_type": "execute_result"
    }
   ],
   "source": [
    "interact(RecAirCAV_wd, tS = (20,50,2), mi = (0,5,0.2), tO = (-10,17,2), phiO = (0,1,0.1), alpha = (0,1,0.1))"
   ]
  },
  {
   "cell_type": "markdown",
   "metadata": {},
   "source": [
    "### Variable air volume (VAV)\n",
    "\n",
    "<img src=\"Figures/winter_VaHum_Rec_VAV.png\" alt=\"winter_Rec_VaHum_VAV\" style=\"width: 600px;\"/>"
   ]
  },
  {
   "cell_type": "code",
   "execution_count": 8,
   "metadata": {},
   "outputs": [],
   "source": [
    "def RecAirVAV_wd(tSsp=30, mi=2.18, tO=-1, phiO=1, alpha=0.5):\n",
    "    from winter_VaHum import RecAirVAV\n",
    "    RecAirVAV(tSsp, mi, tO, phiO, alpha)"
   ]
  },
  {
   "cell_type": "code",
   "execution_count": 9,
   "metadata": {},
   "outputs": [
    {
     "data": {
      "application/vnd.jupyter.widget-view+json": {
       "model_id": "2cef362251e0442e99c764cd21b73a3d",
       "version_major": 2,
       "version_minor": 0
      },
      "text/plain": [
       "interactive(children=(IntSlider(value=30, description='tSsp', max=90, min=-30), FloatSlider(value=2.18, descri…"
      ]
     },
     "metadata": {},
     "output_type": "display_data"
    },
    {
     "data": {
      "text/plain": [
       "<function __main__.RecAirVAV_wd(tSsp=30, mi=2.18, tO=-1, phiO=1, alpha=0.5)>"
      ]
     },
     "execution_count": 9,
     "metadata": {},
     "output_type": "execute_result"
    }
   ],
   "source": [
    "interact(RecAirVAV_wd, tS = (20,50,2), mi = (0,5,0.2), tO = (-10,17,2), phiO = (0,1,0.1), alpha = (0,1,0.1))"
   ]
  },
  {
   "cell_type": "code",
   "execution_count": null,
   "metadata": {},
   "outputs": [],
   "source": []
  }
 ],
 "metadata": {
  "kernelspec": {
   "display_name": "Python 3",
   "language": "python",
   "name": "python3"
  },
  "language_info": {
   "codemirror_mode": {
    "name": "ipython",
    "version": 3
   },
   "file_extension": ".py",
   "mimetype": "text/x-python",
   "name": "python",
   "nbconvert_exporter": "python",
   "pygments_lexer": "ipython3",
   "version": "3.7.7"
  },
  "toc-autonumbering": true
 },
 "nbformat": 4,
 "nbformat_minor": 4
}
