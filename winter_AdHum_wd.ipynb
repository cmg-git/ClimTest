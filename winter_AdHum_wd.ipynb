{
 "cells": [
  {
   "cell_type": "markdown",
   "metadata": {},
   "source": [
    "[Widgets](https://ipywidgets.readthedocs.io/en/latest/)\n",
    "[Pandas PyData](https://pandas.pydata.org/getting_started.html)\n",
    "[Pandas](https://chrisalbon.com/python/data_wrangling/pandas_selecting_rows_on_conditions/)"
   ]
  },
  {
   "cell_type": "code",
   "execution_count": 1,
   "metadata": {},
   "outputs": [],
   "source": [
    "from ipywidgets import interact, interactive, fixed, interact_manual\n",
    "import ipywidgets as widgets\n",
    "import matplotlib.pyplot as plt\n",
    "\n",
    "# %matplotlib inline  # uncomment for inline figure\n",
    "# uncomment for figure in separate window\n",
    "# %matplotlib qt\n",
    "# plt.show()\n",
    "\n",
    "# plt.rcParams[\"figure.figsize\"] = (30,20)\n",
    "# font = {'weight' : 'bold',\n",
    "#        'size'   : 30}\n",
    "# plt.rc('font', **font)"
   ]
  },
  {
   "cell_type": "markdown",
   "metadata": {},
   "source": [
    "# Heating and adiabatic humidification\n",
    "\n",
    "\n",
    "-[CAV Sysmes](https://www.youtube.com/watch?v=6n_qYmbx_1g)\n",
    "\n",
    "-[VAV Sysmes](https://www.youtube.com/watch?v=HBmOyeWtpHg)"
   ]
  },
  {
   "cell_type": "markdown",
   "metadata": {},
   "source": [
    "## Recirculated air"
   ]
  },
  {
   "cell_type": "markdown",
   "metadata": {},
   "source": [
    "### Constant air volume (CAV)\n",
    "[CAV Systems](https://www.youtube.com/watch?v=6n_qYmbx_1g)\n",
    "\n",
    "<img src=\"Figures/winter_AdHum_Rec_CAV.png\" alt=\"winter_AllO_VaHum_CAV\" style=\"width: 600px;\"/>"
   ]
  },
  {
   "cell_type": "code",
   "execution_count": 2,
   "metadata": {},
   "outputs": [],
   "source": [
    "def AllOutAirCAV_wd(tSd=30, mi=2.18, tO=-1, phiO=1, alpha=0.5, beta=0.1):\n",
    "    import winter_AdHum\n",
    "    winter_AdHum.RecAirCAV(tSd, mi, tO, phiO, alpha, beta)"
   ]
  },
  {
   "cell_type": "code",
   "execution_count": 3,
   "metadata": {},
   "outputs": [
    {
     "data": {
      "application/vnd.jupyter.widget-view+json": {
       "model_id": "05101bbb28df484d8917fd91853c4ddb",
       "version_major": 2,
       "version_minor": 0
      },
      "text/plain": [
       "interactive(children=(IntSlider(value=30, description='tSd', max=50, min=20, step=2), FloatSlider(value=2.18, …"
      ]
     },
     "metadata": {},
     "output_type": "display_data"
    },
    {
     "data": {
      "text/plain": [
       "<function __main__.AllOutAirCAV_wd(tSd=30, mi=2.18, tO=-1, phiO=1, alpha=0.5, beta=0.1)>"
      ]
     },
     "execution_count": 3,
     "metadata": {},
     "output_type": "execute_result"
    }
   ],
   "source": [
    "interact(AllOutAirCAV_wd, tSd = (20,50,2), mi = (0,5,0.2), tO = (-10,17,2), phiO = (0,1,0.1), alpha=(0,1,0.1), beta=(0,1,0.1))"
   ]
  },
  {
   "cell_type": "markdown",
   "metadata": {},
   "source": [
    "### Variable air volume (VAV)\n",
    "\n",
    "<img src=\"Figures/winter_AdHum_Rec_VAV.png\" alt=\"winter_AllO_VaHum_CAV\" style=\"width: 600px;\"/>"
   ]
  },
  {
   "cell_type": "code",
   "execution_count": 4,
   "metadata": {},
   "outputs": [],
   "source": [
    "def AllOutAirVAV_wd(tSsp=30, mi=2.18, tO=-1, phiO=1, alpha=0.5, beta=0.1):\n",
    "    import winter_AdHum\n",
    "    winter_AdHum.RecAirVAV(tSsp, mi, tO, phiO, alpha, beta)"
   ]
  },
  {
   "cell_type": "code",
   "execution_count": 5,
   "metadata": {},
   "outputs": [
    {
     "data": {
      "application/vnd.jupyter.widget-view+json": {
       "model_id": "f42b5e20d20442dfbc6690777848df62",
       "version_major": 2,
       "version_minor": 0
      },
      "text/plain": [
       "interactive(children=(IntSlider(value=30, description='tSsp', max=50, min=20, step=2), FloatSlider(value=2.18,…"
      ]
     },
     "metadata": {},
     "output_type": "display_data"
    },
    {
     "data": {
      "text/plain": [
       "<function __main__.AllOutAirVAV_wd(tSsp=30, mi=2.18, tO=-1, phiO=1, alpha=0.5, beta=0.1)>"
      ]
     },
     "execution_count": 5,
     "metadata": {},
     "output_type": "execute_result"
    }
   ],
   "source": [
    "interact(AllOutAirVAV_wd, tSsp = (20,50,2), mi = (0,5,0.2), tO = (-10,17,2), phiO = (0,1,0.1), alpha=(0,1,0.1), beta=(0,0.99,0.1))"
   ]
  }
 ],
 "metadata": {
  "kernelspec": {
   "display_name": "Python 3",
   "language": "python",
   "name": "python3"
  },
  "language_info": {
   "codemirror_mode": {
    "name": "ipython",
    "version": 3
   },
   "file_extension": ".py",
   "mimetype": "text/x-python",
   "name": "python",
   "nbconvert_exporter": "python",
   "pygments_lexer": "ipython3",
   "version": "3.7.7"
  },
  "toc-autonumbering": true
 },
 "nbformat": 4,
 "nbformat_minor": 4
}
