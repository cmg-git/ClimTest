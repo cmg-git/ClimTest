{
 "cells": [
  {
   "cell_type": "markdown",
   "metadata": {},
   "source": [
    "# Cooling and reaheating\n",
    "\n",
    "Model: \n",
    "- Cooling coil, reheating coil, thermal zone. \n",
    "- CAV constant air volume - the mass flow rate is constant.\n",
    "- VAV variable air volume - the mass flow rate is variable.\n",
    "\n",
    "Control:\n",
    "1. indoor temperature controlled by the cooling-coil total heat flow rate;\n",
    "2. indoor humidity controlled by the heating-coil sensible heat flow rate."
   ]
  },
  {
   "cell_type": "code",
   "execution_count": 1,
   "metadata": {},
   "outputs": [],
   "source": [
    "import ipywidgets as wd\n",
    "import matplotlib.pyplot as plt\n",
    "import summer_CoolReH as cc\n",
    "# %matplotlib inline  # uncomment for inline figure\n",
    "# %matplotlib qt      # uncomment for figure in separate window\n",
    "# plt.show()\n",
    "\n",
    "plt.rcParams[\"figure.figsize\"] = (10, 7.7)\n",
    "font = {'size': 16}\n",
    "plt.rc('font', **font)"
   ]
  },
  {
   "cell_type": "markdown",
   "metadata": {},
   "source": [
    "## Create object"
   ]
  },
  {
   "cell_type": "code",
   "execution_count": 2,
   "metadata": {},
   "outputs": [],
   "source": [
    "m = 3.333\n",
    "θo = 32\n",
    "φo = 0.5\n",
    "tIsp = 24\n",
    "φIsp = 0.5\n",
    "QsTZ = 20   # kW\n",
    "QlTZ = 15   # kW\n",
    "CC = cc.CcTz(m, θo, φo, tIsp, φIsp, 1e3 * QsTZ, 1e3 * QlTZ)"
   ]
  },
  {
   "cell_type": "markdown",
   "metadata": {},
   "source": [
    "## CAV Constant Air Volume"
   ]
  },
  {
   "cell_type": "raw",
   "metadata": {},
   "source": [
    " out        s              S          I\n",
    "==0==>[CC]==1==>[HC]===F===2===>[TZ]==3==>\n",
    "       /\\\\      /     /         //    ||\n",
    "      t  sl    s     m         sl     ||\n",
    "      |        |                      ||\n",
    "      |        |                      ||\n",
    "      |        |<-------K-------------||<-wI<-phiI\n",
    "      |<----------------K-------------|<-tI"
   ]
  },
  {
   "cell_type": "markdown",
   "metadata": {},
   "source": [
    "The air mass flow rate *m* is constant. The supply air temperature, $\\theta_S = \\theta_2$, **is not controlled**."
   ]
  },
  {
   "cell_type": "code",
   "execution_count": 3,
   "metadata": {},
   "outputs": [
    {
     "data": {
      "application/vnd.jupyter.widget-view+json": {
       "model_id": "65ca661beded4ec2a7bc79a33a772c5b",
       "version_major": 2,
       "version_minor": 0
      },
      "text/plain": [
       "interactive(children=(FloatSlider(value=3.333, description='m', max=5.0, min=2.0), IntSlider(value=32, descrip…"
      ]
     },
     "metadata": {},
     "output_type": "display_data"
    },
    {
     "data": {
      "text/plain": [
       "<function ipywidgets.widgets.interaction._InteractFactory.__call__.<locals>.<lambda>(*args, **kwargs)>"
      ]
     },
     "execution_count": 3,
     "metadata": {},
     "output_type": "execute_result"
    }
   ],
   "source": [
    "wd.interact(CC.CAV_wd, m=(2,5,0.1),\n",
    "            θo=(25,35,1), φo=(0.4,0.9,0.01),\n",
    "            θIsp=(22,27,1), φIsp=(0.4,0.9,0.01),\n",
    "            QsTZ=(0,100,1), QlTZ=(0,70,1))"
   ]
  },
  {
   "cell_type": "markdown",
   "metadata": {},
   "source": [
    "## VAV Variable Air Volume"
   ]
  },
  {
   "cell_type": "raw",
   "metadata": {},
   "source": [
    "         out        s              S          I\n",
    "        ==0==>[CC]==1==>[HC]===F===2===>[TZ]==3==>\n",
    "               /\\\\      /     /    |     //   ||\n",
    "              t  sl    s     m     |    sl    ||\n",
    "              |        |     |     |          ||\n",
    "              |        |     |<-ls-|<-tSsp)   ||\n",
    "              |        |<-------K-------------|<-wI<-φI\n",
    "              |<----------------K-------------|<-tI"
   ]
  },
  {
   "cell_type": "markdown",
   "metadata": {},
   "source": [
    "The air mass flow rate *m* is variable so that the supply air temperature, $\\theta_S = \\theta_2$, **is controlled**. The non-linear equation (which implements the controller) is solved with *least squares* method."
   ]
  },
  {
   "cell_type": "code",
   "execution_count": 4,
   "metadata": {},
   "outputs": [
    {
     "data": {
      "application/vnd.jupyter.widget-view+json": {
       "model_id": "fd04d35c424c46fe8e302be7b56ca668",
       "version_major": 2,
       "version_minor": 0
      },
      "text/plain": [
       "interactive(children=(FloatSlider(value=18.0, description='θSsp', max=25.0, min=5.0), IntSlider(value=32, desc…"
      ]
     },
     "metadata": {},
     "output_type": "display_data"
    },
    {
     "data": {
      "text/plain": [
       "<function ipywidgets.widgets.interaction._InteractFactory.__call__.<locals>.<lambda>(*args, **kwargs)>"
      ]
     },
     "execution_count": 4,
     "metadata": {},
     "output_type": "execute_result"
    }
   ],
   "source": [
    "wd.interact(CC.VAV_tS_wd, θSsp=(5,25,0.1),\n",
    "            θo=(25,35,1), φo=(0.4,0.9,0.01),\n",
    "            θIsp=(22,27,1), φIsp=(0.4,0.9,0.01),\n",
    "            QsTZ=(0,100,1), QlTZ=(0,70,1))"
   ]
  },
  {
   "cell_type": "code",
   "execution_count": null,
   "metadata": {},
   "outputs": [],
   "source": []
  }
 ],
 "metadata": {
  "kernelspec": {
   "display_name": "Python 3",
   "language": "python",
   "name": "python3"
  },
  "language_info": {
   "codemirror_mode": {
    "name": "ipython",
    "version": 3
   },
   "file_extension": ".py",
   "mimetype": "text/x-python",
   "name": "python",
   "nbconvert_exporter": "python",
   "pygments_lexer": "ipython3",
   "version": "3.8.5"
  }
 },
 "nbformat": 4,
 "nbformat_minor": 4
}
